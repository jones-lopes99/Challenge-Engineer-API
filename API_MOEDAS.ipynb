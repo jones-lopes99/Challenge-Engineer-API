{
  "nbformat": 4,
  "nbformat_minor": 0,
  "metadata": {
    "colab": {
      "provenance": [],
      "mount_file_id": "1UwPGkeIjXasECMl_zLjIlZLCTXRQ1WIv",
      "authorship_tag": "ABX9TyNe/SGGj4nBaqjNY6q6li7R",
      "include_colab_link": true
    },
    "kernelspec": {
      "name": "python3",
      "display_name": "Python 3"
    },
    "language_info": {
      "name": "python"
    }
  },
  "cells": [
    {
      "cell_type": "markdown",
      "metadata": {
        "id": "view-in-github",
        "colab_type": "text"
      },
      "source": [
        "<a href=\"https://colab.research.google.com/github/jones-lopes99/Challenge-Engineer-API/blob/main/API_MOEDAS.ipynb\" target=\"_parent\"><img src=\"https://colab.research.google.com/assets/colab-badge.svg\" alt=\"Open In Colab\"/></a>"
      ]
    },
    {
      "cell_type": "markdown",
      "source": [
        " ## **Instalação de Bibliotecas**"
      ],
      "metadata": {
        "id": "dZEX0_0gFnPh"
      }
    },
    {
      "cell_type": "code",
      "execution_count": null,
      "metadata": {
        "id": "N441442zCleA"
      },
      "outputs": [],
      "source": [
        "pip install -r requirements.txt\n"
      ]
    },
    {
      "cell_type": "markdown",
      "source": [
        "## **Extração dos dados da API e salvamento em um arquivo .csv**"
      ],
      "metadata": {
        "id": "myck0HVgP42d"
      }
    },
    {
      "cell_type": "code",
      "source": [
        "import requests                      #aciono a lib de requests para consulta da API\n",
        "import pandas as pd                  #Lib pandas para lidar com os DFs\n",
        "from datetime import datetime        # uso da Lib nativa do python, para manipulação de campo de data e hora\n",
        "\n",
        "# Lista de moedas a serem consultadas\n",
        "MOEDAS = [\"USD-BRL\", \"EUR-BRL\", \"BTC-BRL\"]\n",
        "URL_API = f\"https://economia.awesomeapi.com.br/last/{','.join(MOEDAS)}\"\n",
        "\n",
        "def obter_cotacoes():\n",
        "    resposta = requests.get(URL_API)  # Request GET para consulta da API\n",
        "    if resposta.status_code != 200:   # Validação da execucação da API saída esperada é 200\n",
        "        raise Exception(\"Erro ao acessar a API\")\n",
        "    return resposta.json()\n",
        "\n",
        "def normalizar_dados(json_data):      #Função para normalização dos dados, partindo de um formato JSON\n",
        "    dados_normalizados = []\n",
        "\n",
        "    for par_moeda, valores in json_data.items():\n",
        "        moeda_base = valores[\"code\"]\n",
        "        moeda_destino = valores[\"codein\"]\n",
        "        valor_compra = float(valores[\"bid\"])\n",
        "        valor_venda = float(valores[\"ask\"])\n",
        "        timestamp = int(valores[\"timestamp\"])\n",
        "        data_hora = datetime.utcfromtimestamp(timestamp).strftime(\"%Y-%m-%d %H:%M:%S\")\n",
        "\n",
        "        dados_normalizados.append({\n",
        "            \"moeda_base\": moeda_base,\n",
        "            \"moeda_destino\": moeda_destino,\n",
        "            \"valor_compra\": valor_compra,\n",
        "            \"valor_venda\": valor_venda,\n",
        "            \"data_hora\": data_hora\n",
        "        })\n",
        "\n",
        "    return dados_normalizados\n",
        "\n",
        "# Armazena os resultados da API em um arquivo .csv\n",
        "\n",
        "def salvar_em_csv(dados, nome_arquivo=\"dados_moedas.csv\"):\n",
        "    df = pd.DataFrame(dados)\n",
        "    df.to_csv(nome_arquivo, index=False)\n",
        "    print(f\"Dados salvos em {nome_arquivo}\")\n",
        "\n",
        "if __name__ == \"__main__\":\n",
        "    try:\n",
        "        json_data = obter_cotacoes()\n",
        "        dados = normalizar_dados(json_data)\n",
        "        salvar_em_csv(dados)\n",
        "    except Exception as e:\n",
        "        print(f\"Erro: {e}\")"
      ],
      "metadata": {
        "colab": {
          "base_uri": "https://localhost:8080/"
        },
        "id": "KM9ss34rC-vd",
        "outputId": "fd07bbc2-5100-404c-b95e-b7a2bf3b9636"
      },
      "execution_count": 11,
      "outputs": [
        {
          "output_type": "stream",
          "name": "stdout",
          "text": [
            "Dados salvos em dados_moedas.csv\n"
          ]
        }
      ]
    },
    {
      "cell_type": "markdown",
      "source": [
        "## **Testando formato json**"
      ],
      "metadata": {
        "id": "oYKoeV9WPrZO"
      }
    },
    {
      "cell_type": "code",
      "source": [
        "import json\n",
        "\n",
        "json_data = obter_cotacoes()\n",
        "print(json.dumps(json_data, indent=4, ensure_ascii=False))\n"
      ],
      "metadata": {
        "colab": {
          "base_uri": "https://localhost:8080/"
        },
        "collapsed": true,
        "id": "kyiC30KvKGhm",
        "outputId": "89571fa6-4fe2-4f2c-bad7-6193ff2a144d"
      },
      "execution_count": 6,
      "outputs": [
        {
          "output_type": "stream",
          "name": "stdout",
          "text": [
            "{\n",
            "    \"USDBRL\": {\n",
            "        \"code\": \"USD\",\n",
            "        \"codein\": \"BRL\",\n",
            "        \"name\": \"Dólar Americano/Real Brasileiro\",\n",
            "        \"high\": \"5.5971\",\n",
            "        \"low\": \"5.54673\",\n",
            "        \"varBid\": \"0.0023\",\n",
            "        \"pctChange\": \"0.041402\",\n",
            "        \"bid\": \"5.558\",\n",
            "        \"ask\": \"5.561\",\n",
            "        \"timestamp\": \"1749513593\",\n",
            "        \"create_date\": \"2025-06-09 20:59:53\"\n",
            "    },\n",
            "    \"EURBRL\": {\n",
            "        \"code\": \"EUR\",\n",
            "        \"codein\": \"BRL\",\n",
            "        \"name\": \"Euro/Real Brasileiro\",\n",
            "        \"high\": \"6.38162\",\n",
            "        \"low\": \"6.32911\",\n",
            "        \"varBid\": \"0.008038\",\n",
            "        \"pctChange\": \"0.126838\",\n",
            "        \"bid\": \"6.34518\",\n",
            "        \"ask\": \"6.36132\",\n",
            "        \"timestamp\": \"1749513587\",\n",
            "        \"create_date\": \"2025-06-09 20:59:47\"\n",
            "    },\n",
            "    \"BTCBRL\": {\n",
            "        \"code\": \"BTC\",\n",
            "        \"codein\": \"BRL\",\n",
            "        \"name\": \"Bitcoin/Real Brasileiro\",\n",
            "        \"high\": \"618000\",\n",
            "        \"low\": \"591355\",\n",
            "        \"varBid\": \"20723\",\n",
            "        \"pctChange\": \"3.482\",\n",
            "        \"bid\": \"615795\",\n",
            "        \"ask\": \"615796\",\n",
            "        \"timestamp\": \"1749513615\",\n",
            "        \"create_date\": \"2025-06-09 21:00:15\"\n",
            "    }\n",
            "}\n"
          ]
        }
      ]
    },
    {
      "cell_type": "code",
      "source": [
        "json_data = obter_cotacoes()  # chama a função que busca os dados da API\n",
        "print(json_data)               # imprime o JSON cru para visualizar como ele é\n"
      ],
      "metadata": {
        "colab": {
          "base_uri": "https://localhost:8080/"
        },
        "collapsed": true,
        "id": "-YfsY--lEhKt",
        "outputId": "b568e0a8-fcc6-4d70-de29-8b0a7ae1c287"
      },
      "execution_count": 5,
      "outputs": [
        {
          "output_type": "stream",
          "name": "stdout",
          "text": [
            "{'USDBRL': {'code': 'USD', 'codein': 'BRL', 'name': 'Dólar Americano/Real Brasileiro', 'high': '5.5971', 'low': '5.54673', 'varBid': '0.0023', 'pctChange': '0.041402', 'bid': '5.558', 'ask': '5.561', 'timestamp': '1749513593', 'create_date': '2025-06-09 20:59:53'}, 'EURBRL': {'code': 'EUR', 'codein': 'BRL', 'name': 'Euro/Real Brasileiro', 'high': '6.38162', 'low': '6.32911', 'varBid': '0.008038', 'pctChange': '0.126838', 'bid': '6.34518', 'ask': '6.36132', 'timestamp': '1749513587', 'create_date': '2025-06-09 20:59:47'}, 'BTCBRL': {'code': 'BTC', 'codein': 'BRL', 'name': 'Bitcoin/Real Brasileiro', 'high': '618000', 'low': '591355', 'varBid': '20723', 'pctChange': '3.482', 'bid': '615795', 'ask': '615796', 'timestamp': '1749513615', 'create_date': '2025-06-09 21:00:15'}}\n"
          ]
        }
      ]
    }
  ]
}